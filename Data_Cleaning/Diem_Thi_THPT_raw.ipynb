{
 "cells": [
  {
   "cell_type": "markdown",
   "metadata": {},
   "source": [
    "# DATA LOADING AND SCREENING"
   ]
  },
  {
   "cell_type": "code",
   "execution_count": 27,
   "metadata": {},
   "outputs": [],
   "source": [
    "import pandas as pd\n",
    "import numpy as np\n",
    "import matplotlib.pyplot as plt\n",
    "import seaborn as sns"
   ]
  },
  {
   "cell_type": "code",
   "execution_count": 28,
   "metadata": {},
   "outputs": [
    {
     "name": "stderr",
     "output_type": "stream",
     "text": [
      "C:\\Temp\\ipykernel_17152\\3471345353.py:1: DtypeWarning: Columns (1,2,3) have mixed types. Specify dtype option on import or set low_memory=False.\n",
      "  df20_21 = pd.read_csv('D:/OneDrive/Data Analytic Projects/Diem_thi_THPT/diemthi_thpt_2020_2024/diem_thi_2020_2021.csv')\n"
     ]
    }
   ],
   "source": [
    "df20_21 = pd.read_csv('D:/OneDrive/Data Analytic Projects/Diem_thi_THPT/diemthi_thpt_2020_2024/diem_thi_2020_2021.csv')\n",
    "df22 = pd.read_csv('D:/OneDrive/Data Analytic Projects/Diem_thi_THPT/diemthi_thpt_2020_2024/diem_thi_thpt_2022.csv')\n",
    "df23 = pd.read_csv('D:/OneDrive/Data Analytic Projects/Diem_thi_THPT/diemthi_thpt_2020_2024/diem_thi_thpt_2023.csv')\n",
    "df24 = pd.read_csv('D:/OneDrive/Data Analytic Projects/Diem_thi_THPT/diemthi_thpt_2020_2024/diem_thi_thpt_2024.csv')"
   ]
  },
  {
   "cell_type": "markdown",
   "metadata": {},
   "source": [
    "# DATA PREPROCESSING"
   ]
  },
  {
   "cell_type": "code",
   "execution_count": 29,
   "metadata": {},
   "outputs": [],
   "source": [
    "df20_21 = df20_21.rename(columns = {\n",
    "    'SBD': 'sbd', \n",
    "    'Tên': 'ten', \n",
    "    'Ngày Sinh': 'ngay_sinh', \n",
    "    'Giới tính': 'gioi_tinh',\n",
    "    'Toán': 'toan',\n",
    "    'Văn': 'ngu_van',\n",
    "    'Ngoại Ngữ': 'ngoai_ngu',\n",
    "    'Lý': 'vat_li',\n",
    "    'Hoá': 'hoa_hoc',\n",
    "    'Sinh': 'sinh_hoc',\n",
    "    'Lịch Sử': 'lich_su',\n",
    "    'Địa Lý': 'dia_li',\n",
    "    'GDCD': 'gdcd',\n",
    "    'Year': 'nam_thi',\n",
    "    'province': 'tinh',})"
   ]
  },
  {
   "cell_type": "markdown",
   "metadata": {},
   "source": [
    "- Drop unnecessary columsn"
   ]
  },
  {
   "cell_type": "code",
   "execution_count": 30,
   "metadata": {},
   "outputs": [],
   "source": [
    "df20_21.drop(columns=['ten', 'ngay_sinh', 'gioi_tinh'], inplace=True)"
   ]
  },
  {
   "cell_type": "markdown",
   "metadata": {},
   "source": [
    "- Create city name table"
   ]
  },
  {
   "cell_type": "code",
   "execution_count": 31,
   "metadata": {},
   "outputs": [],
   "source": [
    "df_code = df20_21[['code','tinh']].drop_duplicates()"
   ]
  },
  {
   "cell_type": "code",
   "execution_count": 32,
   "metadata": {},
   "outputs": [],
   "source": [
    "df_code.sort_values(by = 'code', inplace = True)"
   ]
  },
  {
   "cell_type": "code",
   "execution_count": 33,
   "metadata": {},
   "outputs": [],
   "source": [
    "df_code.reset_index(drop = True, inplace = True)"
   ]
  },
  {
   "cell_type": "code",
   "execution_count": 34,
   "metadata": {},
   "outputs": [],
   "source": [
    "df20_21.drop(columns = ['tinh'], inplace = True)"
   ]
  },
  {
   "cell_type": "code",
   "execution_count": 35,
   "metadata": {},
   "outputs": [],
   "source": [
    "df23 = df23.loc[~((df23['ma_ngoai_ngu'].notnull()) & (df23['ma_ngoai_ngu'] != 'N1'))]\n",
    "df24 = df24.loc[~((df24['ma_ngoai_ngu'].notnull()) & (df24['ma_ngoai_ngu'] != 'N1'))]"
   ]
  },
  {
   "cell_type": "code",
   "execution_count": 36,
   "metadata": {},
   "outputs": [],
   "source": [
    "df23.drop(columns = ['ma_ngoai_ngu'], inplace = True)\n",
    "df24.drop(columns = ['ma_ngoai_ngu'], inplace = True)"
   ]
  },
  {
   "cell_type": "markdown",
   "metadata": {},
   "source": [
    "- Split 20_21 table in separate tables"
   ]
  },
  {
   "cell_type": "code",
   "execution_count": 37,
   "metadata": {},
   "outputs": [],
   "source": [
    "df20 = df20_21.loc[df20_21['nam_thi'] == 2020]\n",
    "df21 = df20_21.loc[df20_21['nam_thi'] == 2021] "
   ]
  },
  {
   "cell_type": "code",
   "execution_count": 38,
   "metadata": {},
   "outputs": [],
   "source": [
    "df21.reset_index(drop = True, inplace = True)"
   ]
  },
  {
   "cell_type": "markdown",
   "metadata": {},
   "source": [
    "- Add 'year' in 2022, 2023, 2024 tables correspondingly"
   ]
  },
  {
   "cell_type": "code",
   "execution_count": 39,
   "metadata": {},
   "outputs": [],
   "source": [
    "df22['nam_thi'] = 2022\n",
    "df23['nam_thi'] = 2023\n",
    "df24['nam_thi'] = 2024"
   ]
  },
  {
   "cell_type": "markdown",
   "metadata": {},
   "source": [
    "- Add 'code' column 2022, 2023, 2024 tables"
   ]
  },
  {
   "cell_type": "code",
   "execution_count": 46,
   "metadata": {},
   "outputs": [],
   "source": [
    "def extract_code(sbd):\n",
    "    sbd_str = str(sbd)\n",
    "    if len(sbd_str) == 8:\n",
    "        return int(sbd_str[:2])\n",
    "    elif len(sbd_str) == 7:\n",
    "        return int(sbd_str[0])\n",
    "\n",
    "# Apply the function to create the 'code' column\n",
    "df23['code'] = df23['sbd'].apply(extract_code)\n",
    "df24['code'] = df24['sbd'].apply(extract_code)"
   ]
  },
  {
   "cell_type": "markdown",
   "metadata": {},
   "source": [
    "- Export csv files"
   ]
  },
  {
   "cell_type": "code",
   "execution_count": null,
   "metadata": {},
   "outputs": [],
   "source": [
    "df20.to_csv('cleaned_2020.csv', index = False)\n",
    "df21.to_csv('cleaned_2021.csv', index = False)\n",
    "df22.to_csv('cleaned_2022.csv', index = False)\n",
    "df23.to_csv('cleaned_2023.csv', index = False)\n",
    "df24.to_csv('cleaned_2024.csv', index = False)\n",
    "df_code.to_csv('city_code.csv', index = False)"
   ]
  }
 ],
 "metadata": {
  "kernelspec": {
   "display_name": "base",
   "language": "python",
   "name": "python3"
  },
  "language_info": {
   "codemirror_mode": {
    "name": "ipython",
    "version": 3
   },
   "file_extension": ".py",
   "mimetype": "text/x-python",
   "name": "python",
   "nbconvert_exporter": "python",
   "pygments_lexer": "ipython3",
   "version": "3.12.7"
  }
 },
 "nbformat": 4,
 "nbformat_minor": 2
}
