{
 "cells": [
  {
   "cell_type": "code",
   "execution_count": null,
   "metadata": {},
   "outputs": [],
   "source": [
    "import pandas as pd\n",
    "import numpy as np\n",
    "import matplotlib.pyplot as plt\n",
    "import seaborn as sns"
   ]
  },
  {
   "cell_type": "code",
   "execution_count": 4,
   "metadata": {},
   "outputs": [
    {
     "name": "stderr",
     "output_type": "stream",
     "text": [
      "C:\\Temp\\ipykernel_16420\\3471345353.py:1: DtypeWarning: Columns (1,2,3) have mixed types. Specify dtype option on import or set low_memory=False.\n",
      "  df20_21 = pd.read_csv('D:/OneDrive/Data Analytic Projects/Diem_thi_THPT/diemthi_thpt_2020_2024/diem_thi_2020_2021.csv')\n"
     ]
    }
   ],
   "source": [
    "df20_21 = pd.read_csv('D:/OneDrive/Data Analytic Projects/Diem_thi_THPT/diemthi_thpt_2020_2024/diem_thi_2020_2021.csv')\n",
    "df22 = pd.read_csv('D:/OneDrive/Data Analytic Projects/Diem_thi_THPT/diemthi_thpt_2020_2024/diem_thi_thpt_2022.csv')\n",
    "df23 = pd.read_csv('D:/OneDrive/Data Analytic Projects/Diem_thi_THPT/diemthi_thpt_2020_2024/diem_thi_thpt_2023.csv')\n",
    "df24 = pd.read_csv('D:/OneDrive/Data Analytic Projects/Diem_thi_THPT/diemthi_thpt_2020_2024/diem_thi_thpt_2024.csv')"
   ]
  }
 ],
 "metadata": {
  "kernelspec": {
   "display_name": "base",
   "language": "python",
   "name": "python3"
  },
  "language_info": {
   "codemirror_mode": {
    "name": "ipython",
    "version": 3
   },
   "file_extension": ".py",
   "mimetype": "text/x-python",
   "name": "python",
   "nbconvert_exporter": "python",
   "pygments_lexer": "ipython3",
   "version": "3.12.7"
  }
 },
 "nbformat": 4,
 "nbformat_minor": 2
}
